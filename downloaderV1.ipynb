{
  "nbformat": 4,
  "nbformat_minor": 0,
  "metadata": {
    "colab": {
      "provenance": [],
      "include_colab_link": true
    },
    "kernelspec": {
      "name": "python3",
      "display_name": "Python 3"
    },
    "language_info": {
      "name": "python"
    }
  },
  "cells": [
    {
      "cell_type": "markdown",
      "metadata": {
        "id": "view-in-github",
        "colab_type": "text"
      },
      "source": [
        "<a href=\"https://colab.research.google.com/github/monsterhunters/CodeUI/blob/master/downloaderV1.ipynb\" target=\"_parent\"><img src=\"https://colab.research.google.com/assets/colab-badge.svg\" alt=\"Open In Colab\"/></a>"
      ]
    },
    {
      "cell_type": "code",
      "execution_count": null,
      "metadata": {
        "cellView": "form",
        "id": "AWVmDGr0Nme4",
        "colab": {
          "base_uri": "https://localhost:8080/"
        },
        "outputId": "ff5de1c9-c223-4f38-bed8-f826f10f9734"
      },
      "outputs": [
        {
          "output_type": "stream",
          "name": "stdout",
          "text": [
            "PaT23.part1.rar       3%[                    ]  26.46M  --.-KB/s    eta 2h 13m "
          ]
        }
      ],
      "source": [
        "#@title <img src=\"https://rapidgator.net/images/logo.png\" width=\"120px\" >\n",
        "\n",
        "\n",
        "!wget https://raw.githubusercontent.com/javsubs91/RAPIDGATOR-COLAB-DOWNLOADER/main/rgcolab.py &> /dev/null\n",
        "#!mkdir /content/downloads\n",
        "import os, sys, re\n",
        "RAPIDGATOR_EMAIL = '' #@param {type:\"string\"}\n",
        "RAPIDGATOR_PASSWORD = '' #@param {type:\"string\"}\n",
        "RAPIDGATOR_LINK = '' #@param {type:\"string\"}\n",
        "output_path = \"\" # @param {type:\"string\"}\n",
        "!python rgcolab.py \"$RAPIDGATOR_EMAIL\" \"$RAPIDGATOR_PASSWORD\" \"$RAPIDGATOR_LINK\" $output_path"
      ]
    },
    {
      "cell_type": "code",
      "source": [
        "# @title <img src=\"https://nitroflare.com/img/logo_en.png\" width=\"120px\"> <br>\n",
        "file_url1 = \"\" # @param {type:\"string\"}\n",
        "file_url2 = \"\" # @param {type:\"string\"}\n",
        "file_url3 = \"\" # @param {type:\"string\"}\n",
        "file_url4 = \"\" # @param {type:\"string\"}\n",
        "file_url5 = \"\" # @param {type:\"string\"}\n",
        "\n",
        "files = [file_url1, file_url2, file_url3, file_url4, file_url5]\n",
        "\n",
        "server = \"server1\" # @param [\"server1\", \"server2\", \"server3\", \"server4\", \"server5\", \"server6\", \"server7\", \"server8\", \"server9\"]\n",
        "output_path = \"\" # @param {type:\"string\"}\n",
        "\n",
        "if server == \"server1\":\n",
        "    username = \"totalleecher@gmail.com\"\n",
        "elif server == \"server2\":\n",
        "    username = \"kyawkaung709@gmail.com\"\n",
        "elif server == \"server3\":\n",
        "    username = \"bssgserverx@gmail.com\"\n",
        "elif server == \"server4\":\n",
        "    username = \"sdserver1@gmail.com\"\n",
        "elif server == \"server5\":\n",
        "    username = \"sdserver2@gmail.com\"\n",
        "elif server == \"server6\":\n",
        "    username = \"lohohig392@fgvod.com\"\n",
        "elif server == \"server7\":\n",
        "    username = \"uebwfca950@tmail3.com\"\n",
        "elif server == \"server8\":\n",
        "    username = \"niwel37892@fgvod.co\"\n",
        "else:\n",
        "    username = \"luriqado@decabg.eu\"\n",
        "\n",
        "\n",
        "import requests\n",
        "\n",
        "for file_url in files:\n",
        "  if file_url == \"\":\n",
        "    continue\n",
        "  else:\n",
        "    # Extract the file code from the URL\n",
        "    parts = file_url.split('/')\n",
        "    filecode = parts[-2] if len(parts) >= 2 else None\n",
        "\n",
        "    if filecode:\n",
        "        # Construct the download link URL\n",
        "        url = f\"https://nitroflare.com/api/v2/getDownloadLink?user={username}&premiumKey=12345678&file={filecode}\"\n",
        "        # Send a GET request to fetch the download link\n",
        "        response = requests.get(url)\n",
        "\n",
        "        if response.status_code == 200:\n",
        "            json_data = response.json()\n",
        "            download_url = json_data.get('result', {}).get('url')\n",
        "            print(download_url)\n",
        "            if download_url:\n",
        "                # Use wget to download the file to the specified output_path\n",
        "                !wget -P $output_path $download_url\n",
        "            else:\n",
        "                print(\"Failed to fetch download URL from Nitroflare API.\")\n",
        "        else:\n",
        "            print(f\"Failed to fetch data. Status code: {response.status_code}\")\n",
        "    else:\n",
        "        print(\"Failed to extract file code from the URL.\")\n"
      ],
      "metadata": {
        "cellView": "form",
        "id": "2KfzwwhIdPUv"
      },
      "execution_count": null,
      "outputs": []
    }
  ]
}